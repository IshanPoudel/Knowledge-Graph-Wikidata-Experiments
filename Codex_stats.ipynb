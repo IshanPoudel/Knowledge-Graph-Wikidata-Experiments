{
  "cells": [
    {
      "cell_type": "markdown",
      "metadata": {
        "id": "view-in-github",
        "colab_type": "text"
      },
      "source": [
        "<a href=\"https://colab.research.google.com/github/IshanPoudel/Knowledge-Graph-Wikidata-Experiments/blob/main/Codex_stats.ipynb\" target=\"_parent\"><img src=\"https://colab.research.google.com/assets/colab-badge.svg\" alt=\"Open In Colab\"/></a>"
      ]
    },
    {
      "cell_type": "code",
      "execution_count": null,
      "metadata": {
        "colab": {
          "background_save": true
        },
        "id": "nSsz4n0d0ksN"
      },
      "outputs": [],
      "source": [
        "import pandas as pd\n",
        "import numpy as np\n",
        "import os\n"
      ]
    },
    {
      "cell_type": "code",
      "execution_count": null,
      "metadata": {
        "colab": {
          "background_save": true,
          "base_uri": "https://localhost:8080/"
        },
        "id": "4nOpdqPh6EbX",
        "outputId": "39b60549-81a2-4af7-d32c-89cef8deb7bb"
      },
      "outputs": [
        {
          "name": "stdout",
          "output_type": "stream",
          "text": [
            "fatal: destination path 'codex' already exists and is not an empty directory.\n",
            "/content/codex/codex\n"
          ]
        }
      ],
      "source": [
        "!git clone https://github.com/tsafavi/codex\n",
        "%cd codex\n"
      ]
    },
    {
      "cell_type": "code",
      "execution_count": null,
      "metadata": {
        "colab": {
          "background_save": true
        },
        "id": "fWWk2YXU6S5s"
      },
      "outputs": [],
      "source": [
        "folder_path= '/content/codex/data/triples/'\n",
        "\n",
        "\n"
      ]
    },
    {
      "cell_type": "code",
      "execution_count": null,
      "metadata": {
        "colab": {
          "background_save": true
        },
        "id": "5PmfqhnR6fwm"
      },
      "outputs": [],
      "source": [
        "\n",
        "dataset_path = 'codex-s'\n",
        "\n"
      ]
    },
    {
      "cell_type": "code",
      "execution_count": null,
      "metadata": {
        "colab": {
          "background_save": true
        },
        "id": "IPVt75s94yI-"
      },
      "outputs": [],
      "source": [
        "\n",
        "final_path = folder_path+dataset_path\n",
        "file_names = os.listdir(final_path)\n",
        "\n",
        "#Initialize empty dfs\n",
        "sep_pattern = r'\\s+'\n",
        "dfs=[]\n",
        "\n",
        "# For all files in file_name\n",
        "excluded_file = ['test_negatives.txt' , 'valid_negatives.txt']\n",
        "\n",
        "for file_name in file_names :\n",
        "  if file_name not in excluded_file:\n",
        "\n",
        "    absolute_path = os.path.join(final_path , file_name)\n",
        "    df = pd.read_csv(absolute_path , sep=sep_pattern , header=None)\n",
        "    dfs.append(df)\n",
        "\n",
        "\n",
        "\n"
      ]
    },
    {
      "cell_type": "code",
      "execution_count": null,
      "metadata": {
        "colab": {
          "background_save": true,
          "base_uri": "https://localhost:8080/"
        },
        "id": "qaZ-ZuoN9yQk",
        "outputId": "47619e93-6005-46e4-bef5-36e97eecf1cd"
      },
      "outputs": [
        {
          "name": "stdout",
          "output_type": "stream",
          "text": [
            "Distinct subject entities: 1702\n",
            "Distinct object entities: 1034\n",
            "Distinct relations: 42\n",
            "Total number of triples: 36543\n",
            "Total number of entities: 2034\n",
            "0           Q928\n",
            "1        Q443897\n",
            "2          Q1014\n",
            "3        Q187019\n",
            "4           Q148\n",
            "          ...   \n",
            "73081     Q11399\n",
            "73082        Q30\n",
            "73083       Q115\n",
            "73084       Q191\n",
            "73085       Q928\n",
            "Length: 73086, dtype: object\n"
          ]
        }
      ],
      "source": [
        "# Concatenated_df\n",
        "df = pd.concat(dfs)\n",
        "#Calculate unique values in each.\n",
        "#Unique subject entities.\n",
        "print(\"Distinct subject entities:\", df[0].nunique())\n",
        "\n",
        "# Distinct object entities\n",
        "print(\"Distinct object entities:\", df[2].nunique())\n",
        "\n",
        "# Distinct relations\n",
        "print(\"Distinct relations:\", df[1].nunique())\n",
        "\n",
        "# Total number of triples\n",
        "print(\"Total number of triples:\", df.shape[0])\n",
        "\n",
        "#Total number of entities\n",
        "#Append df[0] and df[1]\n",
        "list1 = df[0].tolist()\n",
        "list2 = df[2].tolist()\n",
        "series = pd.Series(list1+list2)\n",
        "print(\"Total number of entities:\" , series.nunique())\n",
        "print(series)\n"
      ]
    },
    {
      "cell_type": "code",
      "execution_count": null,
      "metadata": {
        "colab": {
          "background_save": true
        },
        "id": "aKXiNHdV66EW"
      },
      "outputs": [],
      "source": [
        "#Make ids on all entities and relations\n",
        "#Conver the triples into ids."
      ]
    },
    {
      "cell_type": "code",
      "execution_count": null,
      "metadata": {
        "colab": {
          "background_save": true
        },
        "id": "wglmlsrB6_MU"
      },
      "outputs": [],
      "source": [
        "\n",
        "#Print triples.\n"
      ]
    },
    {
      "cell_type": "code",
      "execution_count": null,
      "metadata": {
        "colab": {
          "background_save": true,
          "base_uri": "https://localhost:8080/",
          "height": 424
        },
        "id": "c9VtCCS1uEZU",
        "outputId": "f87bbdf4-d2e7-4dff-a352-a15458c5a3d8"
      },
      "outputs": [
        {
          "data": {
            "text/html": [
              "\n",
              "  <div id=\"df-fdfbc00b-906e-4069-8df9-493d42c30c65\">\n",
              "    <div class=\"colab-df-container\">\n",
              "      <div>\n",
              "<style scoped>\n",
              "    .dataframe tbody tr th:only-of-type {\n",
              "        vertical-align: middle;\n",
              "    }\n",
              "\n",
              "    .dataframe tbody tr th {\n",
              "        vertical-align: top;\n",
              "    }\n",
              "\n",
              "    .dataframe thead th {\n",
              "        text-align: right;\n",
              "    }\n",
              "</style>\n",
              "<table border=\"1\" class=\"dataframe\">\n",
              "  <thead>\n",
              "    <tr style=\"text-align: right;\">\n",
              "      <th></th>\n",
              "      <th>0</th>\n",
              "      <th>1</th>\n",
              "      <th>2</th>\n",
              "    </tr>\n",
              "  </thead>\n",
              "  <tbody>\n",
              "    <tr>\n",
              "      <th>0</th>\n",
              "      <td>Q928</td>\n",
              "      <td>P530</td>\n",
              "      <td>Q41</td>\n",
              "    </tr>\n",
              "    <tr>\n",
              "      <th>1</th>\n",
              "      <td>Q443897</td>\n",
              "      <td>P101</td>\n",
              "      <td>Q207628</td>\n",
              "    </tr>\n",
              "    <tr>\n",
              "      <th>2</th>\n",
              "      <td>Q1014</td>\n",
              "      <td>P530</td>\n",
              "      <td>Q148</td>\n",
              "    </tr>\n",
              "    <tr>\n",
              "      <th>3</th>\n",
              "      <td>Q187019</td>\n",
              "      <td>P106</td>\n",
              "      <td>Q18844224</td>\n",
              "    </tr>\n",
              "    <tr>\n",
              "      <th>4</th>\n",
              "      <td>Q148</td>\n",
              "      <td>P530</td>\n",
              "      <td>Q31</td>\n",
              "    </tr>\n",
              "    <tr>\n",
              "      <th>...</th>\n",
              "      <td>...</td>\n",
              "      <td>...</td>\n",
              "      <td>...</td>\n",
              "    </tr>\n",
              "    <tr>\n",
              "      <th>1823</th>\n",
              "      <td>Q44606</td>\n",
              "      <td>P136</td>\n",
              "      <td>Q11399</td>\n",
              "    </tr>\n",
              "    <tr>\n",
              "      <th>1824</th>\n",
              "      <td>Q5921</td>\n",
              "      <td>P27</td>\n",
              "      <td>Q30</td>\n",
              "    </tr>\n",
              "    <tr>\n",
              "      <th>1825</th>\n",
              "      <td>Q953</td>\n",
              "      <td>P530</td>\n",
              "      <td>Q115</td>\n",
              "    </tr>\n",
              "    <tr>\n",
              "      <th>1826</th>\n",
              "      <td>Q467482</td>\n",
              "      <td>P27</td>\n",
              "      <td>Q191</td>\n",
              "    </tr>\n",
              "    <tr>\n",
              "      <th>1827</th>\n",
              "      <td>Q819</td>\n",
              "      <td>P530</td>\n",
              "      <td>Q928</td>\n",
              "    </tr>\n",
              "  </tbody>\n",
              "</table>\n",
              "<p>36543 rows × 3 columns</p>\n",
              "</div>\n",
              "      <button class=\"colab-df-convert\" onclick=\"convertToInteractive('df-fdfbc00b-906e-4069-8df9-493d42c30c65')\"\n",
              "              title=\"Convert this dataframe to an interactive table.\"\n",
              "              style=\"display:none;\">\n",
              "        \n",
              "  <svg xmlns=\"http://www.w3.org/2000/svg\" height=\"24px\"viewBox=\"0 0 24 24\"\n",
              "       width=\"24px\">\n",
              "    <path d=\"M0 0h24v24H0V0z\" fill=\"none\"/>\n",
              "    <path d=\"M18.56 5.44l.94 2.06.94-2.06 2.06-.94-2.06-.94-.94-2.06-.94 2.06-2.06.94zm-11 1L8.5 8.5l.94-2.06 2.06-.94-2.06-.94L8.5 2.5l-.94 2.06-2.06.94zm10 10l.94 2.06.94-2.06 2.06-.94-2.06-.94-.94-2.06-.94 2.06-2.06.94z\"/><path d=\"M17.41 7.96l-1.37-1.37c-.4-.4-.92-.59-1.43-.59-.52 0-1.04.2-1.43.59L10.3 9.45l-7.72 7.72c-.78.78-.78 2.05 0 2.83L4 21.41c.39.39.9.59 1.41.59.51 0 1.02-.2 1.41-.59l7.78-7.78 2.81-2.81c.8-.78.8-2.07 0-2.86zM5.41 20L4 18.59l7.72-7.72 1.47 1.35L5.41 20z\"/>\n",
              "  </svg>\n",
              "      </button>\n",
              "      \n",
              "  <style>\n",
              "    .colab-df-container {\n",
              "      display:flex;\n",
              "      flex-wrap:wrap;\n",
              "      gap: 12px;\n",
              "    }\n",
              "\n",
              "    .colab-df-convert {\n",
              "      background-color: #E8F0FE;\n",
              "      border: none;\n",
              "      border-radius: 50%;\n",
              "      cursor: pointer;\n",
              "      display: none;\n",
              "      fill: #1967D2;\n",
              "      height: 32px;\n",
              "      padding: 0 0 0 0;\n",
              "      width: 32px;\n",
              "    }\n",
              "\n",
              "    .colab-df-convert:hover {\n",
              "      background-color: #E2EBFA;\n",
              "      box-shadow: 0px 1px 2px rgba(60, 64, 67, 0.3), 0px 1px 3px 1px rgba(60, 64, 67, 0.15);\n",
              "      fill: #174EA6;\n",
              "    }\n",
              "\n",
              "    [theme=dark] .colab-df-convert {\n",
              "      background-color: #3B4455;\n",
              "      fill: #D2E3FC;\n",
              "    }\n",
              "\n",
              "    [theme=dark] .colab-df-convert:hover {\n",
              "      background-color: #434B5C;\n",
              "      box-shadow: 0px 1px 3px 1px rgba(0, 0, 0, 0.15);\n",
              "      filter: drop-shadow(0px 1px 2px rgba(0, 0, 0, 0.3));\n",
              "      fill: #FFFFFF;\n",
              "    }\n",
              "  </style>\n",
              "\n",
              "      <script>\n",
              "        const buttonEl =\n",
              "          document.querySelector('#df-fdfbc00b-906e-4069-8df9-493d42c30c65 button.colab-df-convert');\n",
              "        buttonEl.style.display =\n",
              "          google.colab.kernel.accessAllowed ? 'block' : 'none';\n",
              "\n",
              "        async function convertToInteractive(key) {\n",
              "          const element = document.querySelector('#df-fdfbc00b-906e-4069-8df9-493d42c30c65');\n",
              "          const dataTable =\n",
              "            await google.colab.kernel.invokeFunction('convertToInteractive',\n",
              "                                                     [key], {});\n",
              "          if (!dataTable) return;\n",
              "\n",
              "          const docLinkHtml = 'Like what you see? Visit the ' +\n",
              "            '<a target=\"_blank\" href=https://colab.research.google.com/notebooks/data_table.ipynb>data table notebook</a>'\n",
              "            + ' to learn more about interactive tables.';\n",
              "          element.innerHTML = '';\n",
              "          dataTable['output_type'] = 'display_data';\n",
              "          await google.colab.output.renderOutput(dataTable, element);\n",
              "          const docLink = document.createElement('div');\n",
              "          docLink.innerHTML = docLinkHtml;\n",
              "          element.appendChild(docLink);\n",
              "        }\n",
              "      </script>\n",
              "    </div>\n",
              "  </div>\n",
              "  "
            ],
            "text/plain": [
              "            0     1          2\n",
              "0        Q928  P530        Q41\n",
              "1     Q443897  P101    Q207628\n",
              "2       Q1014  P530       Q148\n",
              "3     Q187019  P106  Q18844224\n",
              "4        Q148  P530        Q31\n",
              "...       ...   ...        ...\n",
              "1823   Q44606  P136     Q11399\n",
              "1824    Q5921   P27        Q30\n",
              "1825     Q953  P530       Q115\n",
              "1826  Q467482   P27       Q191\n",
              "1827     Q819  P530       Q928\n",
              "\n",
              "[36543 rows x 3 columns]"
            ]
          },
          "execution_count": 57,
          "metadata": {},
          "output_type": "execute_result"
        }
      ],
      "source": [
        "df"
      ]
    },
    {
      "cell_type": "code",
      "execution_count": null,
      "metadata": {
        "colab": {
          "background_save": true
        },
        "id": "vcjPPiaZ8IVe"
      },
      "outputs": [],
      "source": []
    },
    {
      "cell_type": "code",
      "execution_count": null,
      "metadata": {
        "colab": {
          "background_save": true
        },
        "id": "gkRLk7u78QCb"
      },
      "outputs": [],
      "source": [
        "#Once we have the df , create ids for each entity and relation and store them somewhere."
      ]
    },
    {
      "cell_type": "code",
      "execution_count": null,
      "metadata": {
        "colab": {
          "background_save": true
        },
        "id": "vLIuYKPF8TBi"
      },
      "outputs": [],
      "source": [
        "# df[1] represents properties\n",
        "\n",
        "#Create a hashmap.\n",
        "\n",
        "property_dict ={}\n",
        "count = 1\n",
        "#Automatically create ids.\n",
        "for n in df[1]:\n",
        "\n",
        "\n",
        "  if  n not in property_dict :\n",
        "    property_dict[n] =  count\n",
        "    count = count + 1\n",
        "\n",
        "\n",
        "\n"
      ]
    },
    {
      "cell_type": "code",
      "execution_count": null,
      "metadata": {
        "colab": {
          "background_save": true,
          "base_uri": "https://localhost:8080/"
        },
        "id": "8S0qw59T1tqI",
        "outputId": "948f53d9-812f-434e-e211-df701e46d9f8"
      },
      "outputs": [
        {
          "data": {
            "text/plain": [
              "{'P530': 1,\n",
              " 'P101': 2,\n",
              " 'P106': 3,\n",
              " 'P551': 4,\n",
              " 'P463': 5,\n",
              " 'P1412': 6,\n",
              " 'P27': 7,\n",
              " 'P264': 8,\n",
              " 'P136': 9,\n",
              " 'P1303': 10,\n",
              " 'P135': 11,\n",
              " 'P140': 12,\n",
              " 'P172': 13,\n",
              " 'P737': 14,\n",
              " 'P361': 15,\n",
              " 'P19': 16,\n",
              " 'P20': 17,\n",
              " 'P17': 18,\n",
              " 'P119': 19,\n",
              " 'P108': 20,\n",
              " 'P37': 21,\n",
              " 'P69': 22,\n",
              " 'P102': 23,\n",
              " 'P3373': 24,\n",
              " 'P749': 25,\n",
              " 'P26': 26,\n",
              " 'P30': 27,\n",
              " 'P740': 28,\n",
              " 'P509': 29,\n",
              " 'P2348': 30,\n",
              " 'P451': 31,\n",
              " 'P1050': 32,\n",
              " 'P161': 33,\n",
              " 'P40': 34,\n",
              " 'P159': 35,\n",
              " 'P840': 36,\n",
              " 'P35': 37,\n",
              " 'P138': 38,\n",
              " 'P800': 39,\n",
              " 'P112': 40,\n",
              " 'P495': 41,\n",
              " 'P3095': 42}"
            ]
          },
          "execution_count": 60,
          "metadata": {},
          "output_type": "execute_result"
        }
      ],
      "source": [
        "property_dict"
      ]
    },
    {
      "cell_type": "code",
      "execution_count": null,
      "metadata": {
        "colab": {
          "background_save": true,
          "base_uri": "https://localhost:8080/"
        },
        "id": "fCqp6F1C18tX",
        "outputId": "d8ae3e7a-b7ed-45bd-fd97-6ac68c7245e2"
      },
      "outputs": [
        {
          "data": {
            "text/plain": [
              "2034"
            ]
          },
          "execution_count": 61,
          "metadata": {},
          "output_type": "execute_result"
        }
      ],
      "source": [
        "#Get hashmap for entities.\n",
        "entities_dict = {}\n",
        "\n",
        "#Series contains all the entitiez in the first and last column .\n",
        "count = 1\n",
        "for entity in series:\n",
        "  if entity not in entities_dict:\n",
        "    entities_dict[entity] = count\n",
        "    count = count + 1\n",
        "\n",
        "len(entities_dict)\n",
        "\n"
      ]
    },
    {
      "cell_type": "code",
      "execution_count": null,
      "metadata": {
        "colab": {
          "background_save": true
        },
        "id": "Gf3Cx7As3V9B"
      },
      "outputs": [],
      "source": [
        "#Generate mappings\n",
        "\n",
        "# Create a new empty DataFrame\n",
        "rows = []\n",
        "# Iterate through each row in 'df'\n",
        "for index, row in df.iterrows():\n",
        "    # Access values from 'entities_dict' and 'property_dict' based on row indices or column names\n",
        "    entity = entities_dict[row[0]]\n",
        "    property_val = property_dict[row[1]]\n",
        "    entity2 = entities_dict[row[2]]\n",
        "\n",
        "    # Create a new row with the extracted values and append it to the new DataFrame\n",
        "    new_row = {'Subject': entity, 'Property': property_val, 'Object': entity2}\n",
        "    rows.append(new_row)\n",
        "\n",
        "# Display the new DataFrame\n",
        "new_df = pd.DataFrame(rows)\n"
      ]
    },
    {
      "cell_type": "code",
      "execution_count": null,
      "metadata": {
        "colab": {
          "background_save": true
        },
        "id": "bMEP_xL_5_od"
      },
      "outputs": [],
      "source": [
        "new_df.to_csv('/content/direct_triples_mapping_'+dataset_path+'.csv', index=False)"
      ]
    },
    {
      "cell_type": "code",
      "execution_count": null,
      "metadata": {
        "colab": {
          "background_save": true
        },
        "id": "Gf6pLdMc6tvO"
      },
      "outputs": [],
      "source": [
        "#Generate entity2id and proprty2id txt files based on the values we have"
      ]
    },
    {
      "cell_type": "code",
      "execution_count": null,
      "metadata": {
        "colab": {
          "background_save": true
        },
        "id": "fGpc9H0i60Jt"
      },
      "outputs": [],
      "source": [
        "# Specify the file path and name for the output file\n",
        "file_path = '/content/entity2id.txt'\n",
        "\n",
        "# Open the file in write mode\n",
        "with open(file_path, 'w') as file:\n",
        "    # Iterate over the dictionary and write each key-value pair to a line in the file\n",
        "    for key, value in entities_dict.items():\n",
        "\n",
        "        file.write(f\"{key},{value}\\n\")"
      ]
    },
    {
      "cell_type": "code",
      "execution_count": null,
      "metadata": {
        "colab": {
          "background_save": true
        },
        "id": "bzMnGWoW9l8L"
      },
      "outputs": [],
      "source": [
        "# Specify the file path and name for the output file\n",
        "file_path = '/content/property2id.txt'\n",
        "\n",
        "# Open the file in write mode\n",
        "with open(file_path, 'w') as file:\n",
        "    # Iterate over the dictionary and write each key-value pair to a line in the file\n",
        "    for key, value in property_dict.items():\n",
        "\n",
        "        file.write(f\"{key},{value}\\n\")"
      ]
    }
  ],
  "metadata": {
    "colab": {
      "provenance": [],
      "authorship_tag": "ABX9TyNYaYTbpzlI9oTC+/3vkVqO",
      "include_colab_link": true
    },
    "kernelspec": {
      "display_name": "Python 3",
      "name": "python3"
    },
    "language_info": {
      "name": "python"
    }
  },
  "nbformat": 4,
  "nbformat_minor": 0
}