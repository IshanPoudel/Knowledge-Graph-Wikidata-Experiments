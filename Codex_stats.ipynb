{
  "nbformat": 4,
  "nbformat_minor": 0,
  "metadata": {
    "colab": {
      "provenance": [],
      "authorship_tag": "ABX9TyNpbwAc/B0Ky7KqZDP6a/Xi",
      "include_colab_link": true
    },
    "kernelspec": {
      "name": "python3",
      "display_name": "Python 3"
    },
    "language_info": {
      "name": "python"
    }
  },
  "cells": [
    {
      "cell_type": "markdown",
      "metadata": {
        "id": "view-in-github",
        "colab_type": "text"
      },
      "source": [
        "<a href=\"https://colab.research.google.com/github/IshanPoudel/Knowledge-Graph-Wikidata-Experiments/blob/main/Codex_stats.ipynb\" target=\"_parent\"><img src=\"https://colab.research.google.com/assets/colab-badge.svg\" alt=\"Open In Colab\"/></a>"
      ]
    },
    {
      "cell_type": "code",
      "execution_count": null,
      "metadata": {
        "id": "nSsz4n0d0ksN"
      },
      "outputs": [],
      "source": [
        "import pandas as pd\n",
        "import numpy as np\n",
        "import os\n"
      ]
    },
    {
      "cell_type": "code",
      "source": [
        "!git clone https://github.com/tsafavi/codex\n",
        "%cd codex\n"
      ],
      "metadata": {
        "colab": {
          "base_uri": "https://localhost:8080/"
        },
        "id": "4nOpdqPh6EbX",
        "outputId": "1d2b52e3-2e96-4b20-f727-a1867823204a"
      },
      "execution_count": null,
      "outputs": [
        {
          "output_type": "stream",
          "name": "stdout",
          "text": [
            "Cloning into 'codex'...\n",
            "remote: Enumerating objects: 961, done.\u001b[K\n",
            "remote: Counting objects: 100% (94/94), done.\u001b[K\n",
            "remote: Compressing objects: 100% (54/54), done.\u001b[K\n",
            "remote: Total 961 (delta 46), reused 83 (delta 39), pack-reused 867\u001b[K\n",
            "Receiving objects: 100% (961/961), 210.62 MiB | 17.34 MiB/s, done.\n",
            "Resolving deltas: 100% (501/501), done.\n",
            "Updating files: 100% (96/96), done.\n",
            "/content/codex\n"
          ]
        }
      ]
    },
    {
      "cell_type": "code",
      "source": [
        "folder_path= '/content/codex/data/triples/'\n",
        "\n",
        "\n"
      ],
      "metadata": {
        "id": "fWWk2YXU6S5s"
      },
      "execution_count": null,
      "outputs": []
    },
    {
      "cell_type": "code",
      "source": [
        "\n",
        "dataset_path = 'codex-l'\n",
        "\n"
      ],
      "metadata": {
        "id": "5PmfqhnR6fwm"
      },
      "execution_count": null,
      "outputs": []
    },
    {
      "cell_type": "code",
      "source": [
        "\n",
        "final_path = folder_path+dataset_path\n",
        "file_names = os.listdir(final_path)\n",
        "\n",
        "#Initialize empty dfs\n",
        "sep_pattern = r'\\s+'\n",
        "dfs=[]\n",
        "\n",
        "\n",
        "for file_name in file_names:\n",
        "  if file_name not in file_to_exclude:\n",
        "    absolute_path = os.path.join(final_path , file_name)\n",
        "    df = pd.read_csv(absolute_path , sep=sep_pattern , header=None)\n",
        "    dfs.append(df)\n",
        "\n",
        "\n",
        "\n"
      ],
      "metadata": {
        "id": "IPVt75s94yI-"
      },
      "execution_count": null,
      "outputs": []
    },
    {
      "cell_type": "code",
      "source": [
        "# Concatenated_df\n",
        "df = pd.concat(dfs)\n",
        "#Calculate unique values in each. \n",
        "#Unique subject entities. \n",
        "print(\"Distinct subject entities:\", df[0].nunique())\n",
        "\n",
        "# Distinct object entities\n",
        "print(\"Distinct object entities:\", df[2].nunique())\n",
        "\n",
        "# Distinct relations\n",
        "print(\"Distinct relations:\", df[1].nunique())\n",
        "\n",
        "# Total number of triples\n",
        "print(\"Total number of triples:\", df.shape[0])\n",
        "\n",
        "#Total number of entities\n",
        "#Append df[0] and df[1]\n",
        "list1 = df[0].tolist()\n",
        "list2 = df[2].tolist()\n",
        "series = pd.Series(list1+list2)\n",
        "print(\"Total number of entities:\" , series.nunique())\n",
        "print(series)\n"
      ],
      "metadata": {
        "colab": {
          "base_uri": "https://localhost:8080/"
        },
        "id": "qaZ-ZuoN9yQk",
        "outputId": "44361ed8-7447-44f6-f614-efadeae8a1d4"
      },
      "execution_count": null,
      "outputs": [
        {
          "output_type": "stream",
          "name": "stdout",
          "text": [
            "Distinct subject entities: 69684\n",
            "Distinct object entities: 23903\n",
            "Distinct relations: 69\n",
            "Total number of triples: 612437\n",
            "Total number of entities: 77951\n",
            "0           Q504617\n",
            "1           Q276304\n",
            "2           Q792576\n",
            "3           Q519441\n",
            "4            Q91181\n",
            "             ...   \n",
            "1224869     Q390287\n",
            "1224870    Q2983698\n",
            "1224871     Q639669\n",
            "1224872     Q745967\n",
            "1224873    Q1622272\n",
            "Length: 1224874, dtype: object\n"
          ]
        }
      ]
    },
    {
      "cell_type": "code",
      "source": [],
      "metadata": {
        "colab": {
          "base_uri": "https://localhost:8080/"
        },
        "id": "aKXiNHdV66EW",
        "outputId": "297c82bb-84da-4fc7-cad4-c3fd9fd9c271"
      },
      "execution_count": null,
      "outputs": [
        {
          "output_type": "stream",
          "name": "stdout",
          "text": [
            "ABout to add valid.txt\n",
            "Distinct subject entities\n",
            "Distinct object entities\n",
            "Distinct relations\n",
            "ABout to add train.txt\n",
            "Distinct subject entities\n",
            "Distinct object entities\n",
            "Distinct relations\n",
            "ABout to add test.txt\n",
            "Distinct subject entities\n",
            "Distinct object entities\n",
            "Distinct relations\n"
          ]
        }
      ]
    },
    {
      "cell_type": "code",
      "source": [
        "\n"
      ],
      "metadata": {
        "colab": {
          "base_uri": "https://localhost:8080/"
        },
        "id": "wglmlsrB6_MU",
        "outputId": "e9a70b9b-fb8e-449f-8d70-a2b93e64405f"
      },
      "execution_count": null,
      "outputs": [
        {
          "output_type": "execute_result",
          "data": {
            "text/plain": [
              "<bound method NDFrame.head of               0     1          2\n",
              "0       Q504617  P106    Q482980\n",
              "1       Q276304  P106  Q18844224\n",
              "2       Q792576   P20      Q1741\n",
              "3       Q519441   P27       Q145\n",
              "4        Q91181  P106   Q1930187\n",
              "...         ...   ...        ...\n",
              "30617   Q165667  P108    Q390287\n",
              "30618  Q3174738   P69   Q2983698\n",
              "30619  Q1524898  P106    Q639669\n",
              "30620   Q157208   P69    Q745967\n",
              "30621    Q93057  P106   Q1622272\n",
              "\n",
              "[612437 rows x 3 columns]>"
            ]
          },
          "metadata": {},
          "execution_count": 58
        }
      ]
    },
    {
      "cell_type": "code",
      "source": [],
      "metadata": {
        "colab": {
          "base_uri": "https://localhost:8080/"
        },
        "id": "vcjPPiaZ8IVe",
        "outputId": "e65b213c-9689-4f15-cb18-a64fe1ab3be3"
      },
      "execution_count": null,
      "outputs": [
        {
          "output_type": "execute_result",
          "data": {
            "text/plain": [
              "69684"
            ]
          },
          "metadata": {},
          "execution_count": 59
        }
      ]
    },
    {
      "cell_type": "code",
      "source": [],
      "metadata": {
        "colab": {
          "base_uri": "https://localhost:8080/"
        },
        "id": "gkRLk7u78QCb",
        "outputId": "80e49c9e-dfe4-4736-9c45-ee8b71fc583b"
      },
      "execution_count": null,
      "outputs": [
        {
          "output_type": "execute_result",
          "data": {
            "text/plain": [
              "23903"
            ]
          },
          "metadata": {},
          "execution_count": 60
        }
      ]
    },
    {
      "cell_type": "code",
      "source": [],
      "metadata": {
        "colab": {
          "base_uri": "https://localhost:8080/"
        },
        "id": "vLIuYKPF8TBi",
        "outputId": "fdf1cbb1-b15e-45f6-ca7c-330276207d72"
      },
      "execution_count": null,
      "outputs": [
        {
          "output_type": "execute_result",
          "data": {
            "text/plain": [
              "69"
            ]
          },
          "metadata": {},
          "execution_count": 61
        }
      ]
    }
  ]
}